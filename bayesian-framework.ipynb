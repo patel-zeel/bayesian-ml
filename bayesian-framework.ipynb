{
 "cells": [
  {
   "cell_type": "markdown",
   "id": "967bd852",
   "metadata": {},
   "source": [
    "# Bayesian Framework"
   ]
  },
  {
   "cell_type": "markdown",
   "id": "23b566f7",
   "metadata": {},
   "source": [
    "<!-- <textarea> -->\n",
    "The entire Bayesian modeling is based on the Bayes rule stated as:\n",
    "\n",
    "\\begin{equation}\n",
    "p(B|A) = \\frac{p(A|B)}{p(A)}p(B)\n",
    "\\end{equation}\n",
    "\n",
    "But, what is A and B? well, it depends on our need. As long as it follows the principles of math, we can model anything using the Bayes rule. \n",
    "\n",
    "In classification and regression problems, our focus is to model the outputs in form of probability distributions. We will mainly look into two kinds of modeling.\n",
    "\n",
    "(parameters-framework)=\n",
    "## 1. Modeling the parameters (e.g. coin toss, linear regression)\n",
    "\n",
    "Here, we will assume a prior distribution (mostly continuous) over the model parameters $\\theta$ and derive a posterior distribution of parameters conditioned on the observed data.\n",
    "\n",
    "\\begin{equation}\n",
    "\\underbrace{p(\\theta|D)}_{\\text{Posterior}} = \\frac{\\overbrace{p(D|\\theta)}^{\\text{Likelihood}}}{\\underbrace{p(D)}_{\\text{Evidence}}}\\underbrace{p(\\theta)}_{\\text{Prior}}\n",
    "\\end{equation}\n",
    "\\begin{equation}\n",
    "p(D) = \\int_{\\theta}p(D|\\theta)p(\\theta)d\\theta\n",
    "\\end{equation}\n",
    "\n",
    "In this type of modeling, distribution over the outputs may be derived from the predictive distribution of parameters.\n",
    "\n",
    "(outputs-framework)=\n",
    "## 2. Modeling the outputs (e.g. Gaussian processes)\n",
    "\n",
    "Here, we will assume a prior distribution over the outputs (functions) $\\mathbf{f}$. Posterior distribution is the distribution over the outputs conditioned on observed data.\n",
    "\n",
    "\\begin{equation}\n",
    "\\underbrace{p(\\mathbf{f}|D)}_{\\text{Posterior}} = \\frac{\\overbrace{p(D|\\mathbf{f})}^{\\text{Likelihood}}}{\\underbrace{p(D)}_{\\text{Evidence}}}\\underbrace{p(\\mathbf{f})}_{\\text{Prior}}\n",
    "\\end{equation}\n",
    "\\begin{equation}\n",
    "p(D) = \\int_{\\mathbf{f}}p(D|\\mathbf{f})p(\\mathbf{f})d\\mathbf{f}\n",
    "\\end{equation}\n",
    "\n",
    "Don't worry about the details if you got the bigger picture for now.\n",
    "\n",
    "Let's move to the simplest example in probability, a coin toss experiment!\n",
    "<!-- </textarea> -->"
   ]
  }
 ],
 "metadata": {
  "kernelspec": {
   "display_name": "Python 3",
   "language": "python",
   "name": "python3"
  },
  "language_info": {
   "codemirror_mode": {
    "name": "ipython",
    "version": 3
   },
   "file_extension": ".py",
   "mimetype": "text/x-python",
   "name": "python",
   "nbconvert_exporter": "python",
   "pygments_lexer": "ipython3",
   "version": "3.8.8"
  }
 },
 "nbformat": 4,
 "nbformat_minor": 5
}
