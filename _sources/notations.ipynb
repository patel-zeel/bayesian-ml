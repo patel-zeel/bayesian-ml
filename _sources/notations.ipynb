{
 "cells": [
  {
   "cell_type": "markdown",
   "id": "40a594f7",
   "metadata": {},
   "source": [
    "# Notations"
   ]
  },
  {
   "cell_type": "markdown",
   "id": "b50991f8",
   "metadata": {},
   "source": [
    "| Symbol | Meaning |\n",
    "| :---   | :---    |\n",
    "| $D$ | data |\n",
    "| $\\theta$ | model parameters |\n",
    "| $X$ | inputs |\n",
    "| $\\mathbf{f}$ | functions, surrogate to the outputs |\n",
    "| $\\mathbf{y}$ | outputs |"
   ]
  }
 ],
 "metadata": {
  "kernelspec": {
   "display_name": "Python 3",
   "language": "python",
   "name": "python3"
  },
  "language_info": {
   "codemirror_mode": {
    "name": "ipython",
    "version": 3
   },
   "file_extension": ".py",
   "mimetype": "text/x-python",
   "name": "python",
   "nbconvert_exporter": "python",
   "pygments_lexer": "ipython3",
   "version": "3.8.8"
  }
 },
 "nbformat": 4,
 "nbformat_minor": 5
}
